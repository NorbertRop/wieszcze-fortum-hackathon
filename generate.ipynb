{
 "cells": [
  {
   "cell_type": "code",
   "execution_count": null,
   "metadata": {},
   "outputs": [],
   "source": [
    "import json\n",
    "import math\n",
    "import random\n",
    "import numpy as np"
   ]
  },
  {
   "cell_type": "code",
   "execution_count": null,
   "metadata": {},
   "outputs": [],
   "source": [
    "import random\n",
    "import time\n",
    "\n",
    "def str_time_prop(start, end, format):\n",
    "    \"\"\"Get a time at a proportion of a range of two formatted times.\n",
    "\n",
    "    start and end should be strings specifying times formated in the\n",
    "    given format (strftime-style), giving an interval [start, end].\n",
    "    prop specifies how a proportion of the interval to be taken after\n",
    "    start.  The returned time will be in the specified format.\n",
    "    \"\"\"\n",
    "\n",
    "    stime = time.mktime(time.strptime(start, format))\n",
    "    etime = time.mktime(time.strptime(end, format))\n",
    "\n",
    "    ptime = stime + random.random() * (etime - stime)\n",
    "\n",
    "    return time.strftime(format, time.localtime(ptime))\n",
    "\n",
    "\n",
    "def random_date(start, end):\n",
    "    return str_time_prop(start, end, '%d/%m/%Y')"
   ]
  },
  {
   "cell_type": "code",
   "execution_count": null,
   "metadata": {},
   "outputs": [],
   "source": [
    "y1, x1, y2, x2 = 16.8073393, 51.0426686, 17.1762192, 51.2100604\n",
    "# x, y = x1 + (x2 - x1)/2, y1 + (y2 - y1)/2\n",
    "# scale_x, scale_y = ((x - x1) + (x2 - x))/2, ((y - y1) + (y2 - y))/2 \n",
    "\n",
    "size = 10_000\n",
    "# no_houses = int(size / 100)\n",
    "no_houses = size\n",
    "energy_summer = (300, 200)\n",
    "energy_winter = (-300, 500)"
   ]
  },
  {
   "cell_type": "code",
   "execution_count": null,
   "metadata": {},
   "outputs": [],
   "source": [
    "houses = []\n",
    "districts = {\n",
    "    'bieńkowice': ([17.0717411,51.029829,17.1117411,51.069829], 0.5, 10),\n",
    "    'stare miasto': ([16.8073393,51.0426686,17.1762192,51.2100604], 10.3, 100),\n",
    "    'krzyki-partynice': ([16.9843425,51.0511937,17.0243425,51.0911937], 19.9, 80),\n",
    "    'psie pole-zawidawie': ([17.094733,51.1259988,17.134733,51.1659988], 29.6, 60),\n",
    "    'leśnica': ([16.8458752,51.1321376,16.8858752,51.1721376], 28.1, 70),\n",
    "    'ołbin': ([17.035126,51.1032183,17.075126,51.1432183], 34.6, 95),\n",
    "    'pilczyce-kozanów-popowice północne': ([16.9375639,51.1184358,16.9775639,51.1584358], 33.5, 90),\n",
    "    'kowale': ([17.0817765,51.1120703,17.1217765,51.1520703], 2.3, 20)\n",
    "}\n",
    "\n",
    "districts_population = [0.5, 10.3, 19.9, 29.6, 28.1, 34.6, 33.5, 2.3]\n",
    "\n",
    "for i in range(no_houses):\n",
    "    district = random.choices(list(districts.keys()), weights=districts_population)[0]\n",
    "    y1, x1, y2, x2 = districts[district][0]\n",
    "    x, y = x1 + (x2 - x1)/2, y1 + (y2 - y1)/2\n",
    "    scale_x, scale_y = ((x - x1) + (x2 - x))/2, ((y - y1) + (y2 - y))/2 \n",
    "    rand_x, rand_y = np.random.normal(x, scale_x), np.random.normal(y, scale_y)\n",
    "    rand_traffic = abs(np.random.normal(districts[district][2], 10))\n",
    "    houses.append((rand_x, rand_y, districts[district][1], rand_traffic))"
   ]
  },
  {
   "cell_type": "code",
   "execution_count": null,
   "metadata": {},
   "outputs": [],
   "source": [
    "points = []\n",
    "    \n",
    "for i in range(int(round(size/2))):\n",
    "    rand_date = random_date(\"1/04/2019\", \"30/9/2019\")\n",
    "    rand_x, rand_y, population, traffic = random.choice(houses)\n",
    "    rand_energy = np.random.normal(energy_summer[0], energy_summer[1])\n",
    "    points.append({'x': rand_x, 'y': rand_y, 'date': rand_date, 'energy_delta': rand_energy, 'population': population, 'traffic': traffic})\n",
    "    \n",
    "for i in range(int(round(size/2))):\n",
    "    rand_date = random_date(\"1/01/2019\", \"31/03/2019\") if random.random() < 0.5 else random_date(\"1/10/2019\", \"31/12/2019\")\n",
    "    rand_x, rand_y, population, traffic = random.choice(houses)\n",
    "    rand_energy = np.random.normal(energy_winter[0], energy_winter[1])\n",
    "    points.append({'x': rand_x, 'y': rand_y, 'date': rand_date, 'energy_delta': rand_energy, 'population': population, 'traffic': traffic})"
   ]
  },
  {
   "cell_type": "code",
   "execution_count": null,
   "metadata": {},
   "outputs": [],
   "source": [
    "points = []\n",
    "max_energy, min_energy = 0, 0\n",
    "    \n",
    "for i in range(size):\n",
    "    rand_x, rand_y, population, traffic = random.choice(houses)\n",
    "    rand_energy = np.random.normal(-300, 500) if random.random() < 0.5 else np.random.normal(300, 200)\n",
    "    if rand_energy < min_energy:\n",
    "        min_energy = rand_energy\n",
    "    if rand_energy > max_energy:\n",
    "        max_energy = rand_energy\n",
    "    points.append({'x': rand_x, 'y': rand_y, 'energy_delta': rand_energy, 'population': population, 'traffic': traffic})"
   ]
  },
  {
   "cell_type": "code",
   "execution_count": null,
   "metadata": {},
   "outputs": [],
   "source": [
    "with open('data/data_without_date.json', 'w') as points_file:\n",
    "    json.dump(points, points_file)       "
   ]
  },
  {
   "cell_type": "markdown",
   "metadata": {},
   "source": [
    "## Charging systems"
   ]
  },
  {
   "cell_type": "code",
   "execution_count": null,
   "metadata": {},
   "outputs": [],
   "source": [
    "charging_systems = [\n",
    "    [17.023146, 51.174947],\n",
    "    [17.028005, 51.157343],\n",
    "    [17.103798, 51.145548],\n",
    "    [17.127055, 51.155197],\n",
    "    [17.022672, 51.116371],\n",
    "    [17.020993, 51.117139],\n",
    "    [16.988662, 51.118742],\n",
    "    [16.975578, 51.126633],\n",
    "    [17.031650, 51.103415],\n",
    "    [17.027631, 51.101445],\n",
    "    [17.027833, 51.095360],\n",
    "    [17.020465, 51.094515],\n",
    "    [17.059772, 51.081472],\n",
    "    [17.047815, 51.077390],\n",
    "    [17.006985, 51.072248],\n",
    "]"
   ]
  },
  {
   "cell_type": "code",
   "execution_count": null,
   "metadata": {},
   "outputs": [],
   "source": [
    "with open('data/charging_systems.json', 'w') as charging_systems_file:\n",
    "    json.dump(charging_systems, charging_systems_file)"
   ]
  },
  {
   "cell_type": "code",
   "execution_count": null,
   "metadata": {},
   "outputs": [],
   "source": [
    "y1, x1, y2, x2 = 16.8073393, 51.0426686, 17.1762192, 51.2100604\n",
    "height, width = y2 - y1, x2 - x1\n",
    "steps = 10\n",
    "height_step, width_step = height/steps, width/steps"
   ]
  },
  {
   "cell_type": "code",
   "execution_count": null,
   "metadata": {},
   "outputs": [],
   "source": [
    "def normalize(x, max_x, min_x):\n",
    "    return (x - min_x)/(max_x - min_x)"
   ]
  },
  {
   "cell_type": "code",
   "execution_count": null,
   "metadata": {
    "scrolled": true
   },
   "outputs": [],
   "source": [
    "min_dist1, min_dist2 = 10000, 10000\n",
    "for i in range(steps):\n",
    "    for j in range(steps):\n",
    "        x, y = x1 + i * width_step, y2 - i * height_step\n",
    "        for point in points:\n",
    "            dist = math.hypot(point['x'] - x, point['y'] - y)\n",
    "            min_dist1 = dist if dist < min_dist1 else min_dist1\n",
    "        for system in charging_systems:\n",
    "            dist = math.hypot(system[1] - x, system[0] - y)\n",
    "            min_dist2 = dist if dist < min_dist2 else min_dist2"
   ]
  },
  {
   "cell_type": "code",
   "execution_count": null,
   "metadata": {},
   "outputs": [],
   "source": [
    "min_dist1 = 1/(min_dist1*min_dist1)\n",
    "min_dist2 = 1/(min_dist2*min_dist2)"
   ]
  },
  {
   "cell_type": "code",
   "execution_count": null,
   "metadata": {
    "scrolled": true
   },
   "outputs": [],
   "source": [
    "possible_charging_systems = []\n",
    "for i in range(steps):\n",
    "    for j in range(steps):\n",
    "        x, y = x1 + i * width_step, y2 - j * height_step\n",
    "        optim = 0\n",
    "        for point in points:\n",
    "            dist = math.hypot(point['x'] - x, point['y'] - y)\n",
    "            optim += normalize(1/(dist*dist), min_dist1, 0) * \\\n",
    "                normalize(point['energy_delta'], max_energy, min_energy) * \\\n",
    "                normalize(point['population'], 34.6, 0.5) * \\\n",
    "                normalize(point['traffic'], 100, 10)\n",
    "        for system in charging_systems:\n",
    "            dist = math.hypot(system[0] - x, system[1] - y)\n",
    "            optim -= 2 * normalize(1/(dist*dist), min_dist2, 0)\n",
    "        possible_charging_systems.append((x, y, optim))"
   ]
  },
  {
   "cell_type": "code",
   "execution_count": null,
   "metadata": {},
   "outputs": [],
   "source": [
    "with open('data/possible_charging_system.json', 'w') as possible_charging_systems_file:\n",
    "    json.dump(possible_charging_systems, possible_charging_systems_file)"
   ]
  },
  {
   "cell_type": "code",
   "execution_count": null,
   "metadata": {
    "scrolled": true
   },
   "outputs": [],
   "source": [
    "possible_charging_systems"
   ]
  },
  {
   "cell_type": "code",
   "execution_count": null,
   "metadata": {},
   "outputs": [],
   "source": []
  }
 ],
 "metadata": {
  "kernelspec": {
   "display_name": "Python 3",
   "language": "python",
   "name": "python3"
  },
  "language_info": {
   "codemirror_mode": {
    "name": "ipython",
    "version": 3
   },
   "file_extension": ".py",
   "mimetype": "text/x-python",
   "name": "python",
   "nbconvert_exporter": "python",
   "pygments_lexer": "ipython3",
   "version": "3.8.5"
  }
 },
 "nbformat": 4,
 "nbformat_minor": 4
}
