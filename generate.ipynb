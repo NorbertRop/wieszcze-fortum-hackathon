{
 "cells": [
  {
   "cell_type": "code",
   "execution_count": null,
   "metadata": {},
   "outputs": [],
   "source": [
    "import json\n",
    "import random\n",
    "import numpy as np"
   ]
  },
  {
   "cell_type": "code",
   "execution_count": null,
   "metadata": {},
   "outputs": [],
   "source": [
    "import random\n",
    "import time\n",
    "\n",
    "def str_time_prop(start, end, format):\n",
    "    \"\"\"Get a time at a proportion of a range of two formatted times.\n",
    "\n",
    "    start and end should be strings specifying times formated in the\n",
    "    given format (strftime-style), giving an interval [start, end].\n",
    "    prop specifies how a proportion of the interval to be taken after\n",
    "    start.  The returned time will be in the specified format.\n",
    "    \"\"\"\n",
    "\n",
    "    stime = time.mktime(time.strptime(start, format))\n",
    "    etime = time.mktime(time.strptime(end, format))\n",
    "\n",
    "    ptime = stime + random.random() * (etime - stime)\n",
    "\n",
    "    return time.strftime(format, time.localtime(ptime))\n",
    "\n",
    "\n",
    "def random_date(start, end):\n",
    "    return str_time_prop(start, end, '%d/%m/%Y')"
   ]
  },
  {
   "cell_type": "code",
   "execution_count": null,
   "metadata": {},
   "outputs": [],
   "source": [
    "y1, x1, y2, x2 = 16.8073393, 51.0426686, 17.1762192, 51.2100604\n",
    "x, y = x1 + (x2 - x1)/2, y1 + (y2 - y1)/2\n",
    "scale_x, scale_y = ((x - x1) + (x2 - x))/2, ((y - y1) + (y2 - y))/2 \n",
    "\n",
    "size = 100_000\n",
    "no_houses = int(size / 100)\n",
    "energy_summer = (300, 200)\n",
    "energy_winter = (-300, 500)"
   ]
  },
  {
   "cell_type": "code",
   "execution_count": null,
   "metadata": {},
   "outputs": [],
   "source": [
    "houses = []\n",
    "districts = {\n",
    "    'bieńkowice': ([17.0717411,51.029829,17.1117411,51.069829], 0.5, 10),\n",
    "    'stare miasto': ([16.8073393,51.0426686,17.1762192,51.2100604], 10.3, 100),\n",
    "    'krzyki-partynice': ([16.9843425,51.0511937,17.0243425,51.0911937], 19.9, 80),\n",
    "    'psie pole-zawidawie': ([17.094733,51.1259988,17.134733,51.1659988], 29.6, 60),\n",
    "    'leśnica': ([16.8458752,51.1321376,16.8858752,51.1721376], 28.1, 70),\n",
    "    'ołbin': ([17.035126,51.1032183,17.075126,51.1432183], 34.6, 95),\n",
    "    'pilczyce-kozanów-popowice północne': ([16.9375639,51.1184358,16.9775639,51.1584358], 33.5, 90),\n",
    "    'kowale': ([17.0817765,51.1120703,17.1217765,51.1520703], 2.3, 20)\n",
    "}\n",
    "\n",
    "districts_population = [0.5, 10.3, 19.9, 29.6, 28.1, 34.6, 33.5, 2.3]\n",
    "\n",
    "for i in range(no_houses):\n",
    "    district = random.choices(list(districts.keys()), weights=districts_population)[0]\n",
    "    y1, x1, y2, x2 = districts[district][0]\n",
    "    x, y = x1 + (x2 - x1)/2, y1 + (y2 - y1)/2\n",
    "    scale_x, scale_y = ((x - x1) + (x2 - x))/2, ((y - y1) + (y2 - y))/2 \n",
    "    rand_x, rand_y = np.random.normal(x, scale_x), np.random.normal(y, scale_y)\n",
    "    rand_traffic = abs(np.random.normal(districts[district][2], 10))\n",
    "    houses.append((rand_x, rand_y, districts[district][1], rand_traffic))"
   ]
  },
  {
   "cell_type": "code",
   "execution_count": null,
   "metadata": {},
   "outputs": [],
   "source": [
    "energy_json = []\n",
    "    \n",
    "for i in range(int(round(size/2))):\n",
    "    rand_date = random_date(\"1/04/2019\", \"30/9/2019\")\n",
    "    rand_x, rand_y, population, traffic = random.choice(houses)\n",
    "    rand_energy = np.random.normal(energy_summer[0], energy_summer[1])\n",
    "    energy_json.append({'x': rand_x, 'y': rand_y, 'date': rand_date, 'energy_delta': rand_energy, 'population': population, 'traffic': traffic})\n",
    "    \n",
    "for i in range(int(round(size/2))):\n",
    "    rand_date = random_date(\"1/01/2019\", \"31/03/2019\") if random.random() < 0.5 else random_date(\"1/10/2019\", \"31/12/2019\")\n",
    "    rand_x, rand_y, population, traffic = random.choice(houses)\n",
    "    rand_energy = np.random.normal(energy_winter[0], energy_winter[1])\n",
    "    energy_json.append({'x': rand_x, 'y': rand_y, 'date': rand_date, 'energy_delta': rand_energy, 'population': population, 'traffic': traffic})"
   ]
  },
  {
   "cell_type": "code",
   "execution_count": null,
   "metadata": {},
   "outputs": [],
   "source": [
    "with open('data/data.json', 'w') as energy_json_file:\n",
    "    json.dump(energy_json, energy_json_file)       "
   ]
  }
 ],
 "metadata": {
  "kernelspec": {
   "display_name": "Python 3",
   "language": "python",
   "name": "python3"
  },
  "language_info": {
   "codemirror_mode": {
    "name": "ipython",
    "version": 3
   },
   "file_extension": ".py",
   "mimetype": "text/x-python",
   "name": "python",
   "nbconvert_exporter": "python",
   "pygments_lexer": "ipython3",
   "version": "3.8.5"
  }
 },
 "nbformat": 4,
 "nbformat_minor": 4
}
