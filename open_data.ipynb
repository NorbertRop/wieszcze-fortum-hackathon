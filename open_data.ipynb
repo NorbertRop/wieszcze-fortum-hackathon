{
 "cells": [
  {
   "cell_type": "code",
   "execution_count": 42,
   "metadata": {
    "collapsed": true,
    "pycharm": {
     "is_executing": false
    }
   },
   "outputs": [],
   "source": [
    "import pandas as pd\n",
    "import numpy as np"
   ]
  },
  {
   "cell_type": "code",
   "execution_count": 43,
   "outputs": [
    {
     "data": {
      "text/plain": "               x          y       date  energy_delta  population     traffic\n0      51.136027  16.981590 2019-08-20    483.227511        33.5  105.480357\n1      51.152746  17.086915 2019-06-30    425.025310        29.6   53.992526\n2      51.161598  17.093712 2019-07-29    352.860324        29.6   65.381921\n3      51.057650  16.984109 2019-05-20    149.377661        19.9   78.341479\n4      51.135540  17.133699 2019-05-31   -117.714194        29.6   65.388613\n...          ...        ...        ...           ...         ...         ...\n99995  51.160787  16.924699 2019-01-24  -1272.424285        33.5   88.518312\n99996  51.156079  17.129023 2019-03-30  -1119.062505        29.6   71.552822\n99997  51.141183  17.042097 2019-07-12    491.084854        34.6   99.595438\n99998  51.124121  16.900435 2019-01-18      9.014678        33.5   82.258003\n99999  51.150519  16.960285 2019-10-15   -531.044435        33.5   99.222730\n\n[100000 rows x 6 columns]",
      "text/html": "<div>\n<style scoped>\n    .dataframe tbody tr th:only-of-type {\n        vertical-align: middle;\n    }\n\n    .dataframe tbody tr th {\n        vertical-align: top;\n    }\n\n    .dataframe thead th {\n        text-align: right;\n    }\n</style>\n<table border=\"1\" class=\"dataframe\">\n  <thead>\n    <tr style=\"text-align: right;\">\n      <th></th>\n      <th>x</th>\n      <th>y</th>\n      <th>date</th>\n      <th>energy_delta</th>\n      <th>population</th>\n      <th>traffic</th>\n    </tr>\n  </thead>\n  <tbody>\n    <tr>\n      <th>0</th>\n      <td>51.136027</td>\n      <td>16.981590</td>\n      <td>2019-08-20</td>\n      <td>483.227511</td>\n      <td>33.5</td>\n      <td>105.480357</td>\n    </tr>\n    <tr>\n      <th>1</th>\n      <td>51.152746</td>\n      <td>17.086915</td>\n      <td>2019-06-30</td>\n      <td>425.025310</td>\n      <td>29.6</td>\n      <td>53.992526</td>\n    </tr>\n    <tr>\n      <th>2</th>\n      <td>51.161598</td>\n      <td>17.093712</td>\n      <td>2019-07-29</td>\n      <td>352.860324</td>\n      <td>29.6</td>\n      <td>65.381921</td>\n    </tr>\n    <tr>\n      <th>3</th>\n      <td>51.057650</td>\n      <td>16.984109</td>\n      <td>2019-05-20</td>\n      <td>149.377661</td>\n      <td>19.9</td>\n      <td>78.341479</td>\n    </tr>\n    <tr>\n      <th>4</th>\n      <td>51.135540</td>\n      <td>17.133699</td>\n      <td>2019-05-31</td>\n      <td>-117.714194</td>\n      <td>29.6</td>\n      <td>65.388613</td>\n    </tr>\n    <tr>\n      <th>...</th>\n      <td>...</td>\n      <td>...</td>\n      <td>...</td>\n      <td>...</td>\n      <td>...</td>\n      <td>...</td>\n    </tr>\n    <tr>\n      <th>99995</th>\n      <td>51.160787</td>\n      <td>16.924699</td>\n      <td>2019-01-24</td>\n      <td>-1272.424285</td>\n      <td>33.5</td>\n      <td>88.518312</td>\n    </tr>\n    <tr>\n      <th>99996</th>\n      <td>51.156079</td>\n      <td>17.129023</td>\n      <td>2019-03-30</td>\n      <td>-1119.062505</td>\n      <td>29.6</td>\n      <td>71.552822</td>\n    </tr>\n    <tr>\n      <th>99997</th>\n      <td>51.141183</td>\n      <td>17.042097</td>\n      <td>2019-07-12</td>\n      <td>491.084854</td>\n      <td>34.6</td>\n      <td>99.595438</td>\n    </tr>\n    <tr>\n      <th>99998</th>\n      <td>51.124121</td>\n      <td>16.900435</td>\n      <td>2019-01-18</td>\n      <td>9.014678</td>\n      <td>33.5</td>\n      <td>82.258003</td>\n    </tr>\n    <tr>\n      <th>99999</th>\n      <td>51.150519</td>\n      <td>16.960285</td>\n      <td>2019-10-15</td>\n      <td>-531.044435</td>\n      <td>33.5</td>\n      <td>99.222730</td>\n    </tr>\n  </tbody>\n</table>\n<p>100000 rows × 6 columns</p>\n</div>"
     },
     "metadata": {},
     "output_type": "execute_result",
     "execution_count": 43
    }
   ],
   "source": [
    "en = pd.read_json('data/data.json')\n",
    "en"
   ],
   "metadata": {
    "collapsed": false,
    "pycharm": {
     "name": "#%%\n",
     "is_executing": false
    }
   }
  },
  {
   "cell_type": "code",
   "execution_count": 44,
   "outputs": [
    {
     "data": {
      "text/plain": "                   x              y   energy_delta     population  \\\ncount  100000.000000  100000.000000  100000.000000  100000.000000   \nmean       51.129344      17.001565      -1.058550      28.488598   \nstd         0.036141       0.097298     485.355643       7.432355   \nmin        50.891361      16.557141   -2749.132994       0.500000   \n25%        51.112449      16.939732    -299.564037      28.100000   \n50%        51.134256      17.002972     127.527890      29.600000   \n75%        51.151529      17.074715     348.381780      33.500000   \nmax        51.309979      17.407057    1843.409713      34.600000   \n\n             traffic  \ncount  100000.000000  \nmean       80.480637  \nstd        18.535032  \nmin         6.144192  \n25%        68.067050  \n50%        82.348013  \n75%        94.712551  \nmax       125.777179  ",
      "text/html": "<div>\n<style scoped>\n    .dataframe tbody tr th:only-of-type {\n        vertical-align: middle;\n    }\n\n    .dataframe tbody tr th {\n        vertical-align: top;\n    }\n\n    .dataframe thead th {\n        text-align: right;\n    }\n</style>\n<table border=\"1\" class=\"dataframe\">\n  <thead>\n    <tr style=\"text-align: right;\">\n      <th></th>\n      <th>x</th>\n      <th>y</th>\n      <th>energy_delta</th>\n      <th>population</th>\n      <th>traffic</th>\n    </tr>\n  </thead>\n  <tbody>\n    <tr>\n      <th>count</th>\n      <td>100000.000000</td>\n      <td>100000.000000</td>\n      <td>100000.000000</td>\n      <td>100000.000000</td>\n      <td>100000.000000</td>\n    </tr>\n    <tr>\n      <th>mean</th>\n      <td>51.129344</td>\n      <td>17.001565</td>\n      <td>-1.058550</td>\n      <td>28.488598</td>\n      <td>80.480637</td>\n    </tr>\n    <tr>\n      <th>std</th>\n      <td>0.036141</td>\n      <td>0.097298</td>\n      <td>485.355643</td>\n      <td>7.432355</td>\n      <td>18.535032</td>\n    </tr>\n    <tr>\n      <th>min</th>\n      <td>50.891361</td>\n      <td>16.557141</td>\n      <td>-2749.132994</td>\n      <td>0.500000</td>\n      <td>6.144192</td>\n    </tr>\n    <tr>\n      <th>25%</th>\n      <td>51.112449</td>\n      <td>16.939732</td>\n      <td>-299.564037</td>\n      <td>28.100000</td>\n      <td>68.067050</td>\n    </tr>\n    <tr>\n      <th>50%</th>\n      <td>51.134256</td>\n      <td>17.002972</td>\n      <td>127.527890</td>\n      <td>29.600000</td>\n      <td>82.348013</td>\n    </tr>\n    <tr>\n      <th>75%</th>\n      <td>51.151529</td>\n      <td>17.074715</td>\n      <td>348.381780</td>\n      <td>33.500000</td>\n      <td>94.712551</td>\n    </tr>\n    <tr>\n      <th>max</th>\n      <td>51.309979</td>\n      <td>17.407057</td>\n      <td>1843.409713</td>\n      <td>34.600000</td>\n      <td>125.777179</td>\n    </tr>\n  </tbody>\n</table>\n</div>"
     },
     "metadata": {},
     "output_type": "execute_result",
     "execution_count": 44
    }
   ],
   "source": [
    "en.describe()"
   ],
   "metadata": {
    "collapsed": false,
    "pycharm": {
     "name": "#%%\n",
     "is_executing": false
    }
   }
  },
  {
   "cell_type": "code",
   "execution_count": 45,
   "outputs": [],
   "source": [
    "# locations = en[['x', 'y']] \n",
    "# locations\n",
    "\n",
    "# weights = en['energy_delta']\n",
    "# weights\n",
    "\n",
    "# "
   ],
   "metadata": {
    "collapsed": false,
    "pycharm": {
     "name": "#%%\n",
     "is_executing": false
    }
   }
  },
  {
   "cell_type": "code",
   "execution_count": 46,
   "outputs": [
    {
     "data": {
      "text/plain": "               y          y  energy_delta\n0      16.981590  16.981590    483.227511\n1      17.086915  17.086915    425.025310\n2      17.093712  17.093712    352.860324\n3      16.984109  16.984109    149.377661\n4      17.133699  17.133699   -117.714194\n...          ...        ...           ...\n99995  16.924699  16.924699  -1272.424285\n99996  17.129023  17.129023  -1119.062505\n99997  17.042097  17.042097    491.084854\n99998  16.900435  16.900435      9.014678\n99999  16.960285  16.960285   -531.044435\n\n[100000 rows x 3 columns]",
      "text/html": "<div>\n<style scoped>\n    .dataframe tbody tr th:only-of-type {\n        vertical-align: middle;\n    }\n\n    .dataframe tbody tr th {\n        vertical-align: top;\n    }\n\n    .dataframe thead th {\n        text-align: right;\n    }\n</style>\n<table border=\"1\" class=\"dataframe\">\n  <thead>\n    <tr style=\"text-align: right;\">\n      <th></th>\n      <th>y</th>\n      <th>y</th>\n      <th>energy_delta</th>\n    </tr>\n  </thead>\n  <tbody>\n    <tr>\n      <th>0</th>\n      <td>16.981590</td>\n      <td>16.981590</td>\n      <td>483.227511</td>\n    </tr>\n    <tr>\n      <th>1</th>\n      <td>17.086915</td>\n      <td>17.086915</td>\n      <td>425.025310</td>\n    </tr>\n    <tr>\n      <th>2</th>\n      <td>17.093712</td>\n      <td>17.093712</td>\n      <td>352.860324</td>\n    </tr>\n    <tr>\n      <th>3</th>\n      <td>16.984109</td>\n      <td>16.984109</td>\n      <td>149.377661</td>\n    </tr>\n    <tr>\n      <th>4</th>\n      <td>17.133699</td>\n      <td>17.133699</td>\n      <td>-117.714194</td>\n    </tr>\n    <tr>\n      <th>...</th>\n      <td>...</td>\n      <td>...</td>\n      <td>...</td>\n    </tr>\n    <tr>\n      <th>99995</th>\n      <td>16.924699</td>\n      <td>16.924699</td>\n      <td>-1272.424285</td>\n    </tr>\n    <tr>\n      <th>99996</th>\n      <td>17.129023</td>\n      <td>17.129023</td>\n      <td>-1119.062505</td>\n    </tr>\n    <tr>\n      <th>99997</th>\n      <td>17.042097</td>\n      <td>17.042097</td>\n      <td>491.084854</td>\n    </tr>\n    <tr>\n      <th>99998</th>\n      <td>16.900435</td>\n      <td>16.900435</td>\n      <td>9.014678</td>\n    </tr>\n    <tr>\n      <th>99999</th>\n      <td>16.960285</td>\n      <td>16.960285</td>\n      <td>-531.044435</td>\n    </tr>\n  </tbody>\n</table>\n<p>100000 rows × 3 columns</p>\n</div>"
     },
     "metadata": {},
     "output_type": "execute_result",
     "execution_count": 46
    }
   ],
   "source": [
    "locations = en[['y', 'y', 'energy_delta']]\n",
    "locations"
   ],
   "metadata": {
    "collapsed": false,
    "pycharm": {
     "name": "#%%\n",
     "is_executing": false
    }
   }
  },
  {
   "cell_type": "code",
   "execution_count": 47,
   "outputs": [
    {
     "data": {
      "text/plain": "array([[  16.98158991,   16.98158991,  483.22751112],\n       [  17.08691546,   17.08691546,  425.02530969],\n       [  17.09371156,   17.09371156,  352.86032427],\n       ...,\n       [  17.04209713,   17.04209713,  491.08485447],\n       [  16.90043499,   16.90043499,    9.01467822],\n       [  16.96028538,   16.96028538, -531.04443545]])"
     },
     "metadata": {},
     "output_type": "execute_result",
     "execution_count": 47
    }
   ],
   "source": [
    "locations.to_numpy()\n"
   ],
   "metadata": {
    "collapsed": false,
    "pycharm": {
     "name": "#%%\n",
     "is_executing": false
    }
   }
  },
  {
   "cell_type": "code",
   "execution_count": 48,
   "outputs": [
    {
     "data": {
      "text/plain": "               x          y       date  energy_delta  population     traffic\n0      51.136027  16.981590 2019-08-20    483.227511        33.5  105.480357\n1      51.152746  17.086915 2019-06-30    425.025310        29.6   53.992526\n2      51.161598  17.093712 2019-07-29    352.860324        29.6   65.381921\n3      51.057650  16.984109 2019-05-20    149.377661        19.9   78.341479\n5      51.135540  17.133699 2019-09-21    159.645733        29.6   65.388613\n...          ...        ...        ...           ...         ...         ...\n99989  51.074460  16.993327 2019-03-27    115.856139        19.9   74.734631\n99991  51.161679  16.856860 2019-12-20      7.968240        28.1   77.955617\n99992  51.113933  16.924313 2019-03-28    318.913706        10.3  107.084519\n99997  51.141183  17.042097 2019-07-12    491.084854        34.6   99.595438\n99998  51.124121  16.900435 2019-01-18      9.014678        33.5   82.258003\n\n[60238 rows x 6 columns]",
      "text/html": "<div>\n<style scoped>\n    .dataframe tbody tr th:only-of-type {\n        vertical-align: middle;\n    }\n\n    .dataframe tbody tr th {\n        vertical-align: top;\n    }\n\n    .dataframe thead th {\n        text-align: right;\n    }\n</style>\n<table border=\"1\" class=\"dataframe\">\n  <thead>\n    <tr style=\"text-align: right;\">\n      <th></th>\n      <th>x</th>\n      <th>y</th>\n      <th>date</th>\n      <th>energy_delta</th>\n      <th>population</th>\n      <th>traffic</th>\n    </tr>\n  </thead>\n  <tbody>\n    <tr>\n      <th>0</th>\n      <td>51.136027</td>\n      <td>16.981590</td>\n      <td>2019-08-20</td>\n      <td>483.227511</td>\n      <td>33.5</td>\n      <td>105.480357</td>\n    </tr>\n    <tr>\n      <th>1</th>\n      <td>51.152746</td>\n      <td>17.086915</td>\n      <td>2019-06-30</td>\n      <td>425.025310</td>\n      <td>29.6</td>\n      <td>53.992526</td>\n    </tr>\n    <tr>\n      <th>2</th>\n      <td>51.161598</td>\n      <td>17.093712</td>\n      <td>2019-07-29</td>\n      <td>352.860324</td>\n      <td>29.6</td>\n      <td>65.381921</td>\n    </tr>\n    <tr>\n      <th>3</th>\n      <td>51.057650</td>\n      <td>16.984109</td>\n      <td>2019-05-20</td>\n      <td>149.377661</td>\n      <td>19.9</td>\n      <td>78.341479</td>\n    </tr>\n    <tr>\n      <th>5</th>\n      <td>51.135540</td>\n      <td>17.133699</td>\n      <td>2019-09-21</td>\n      <td>159.645733</td>\n      <td>29.6</td>\n      <td>65.388613</td>\n    </tr>\n    <tr>\n      <th>...</th>\n      <td>...</td>\n      <td>...</td>\n      <td>...</td>\n      <td>...</td>\n      <td>...</td>\n      <td>...</td>\n    </tr>\n    <tr>\n      <th>99989</th>\n      <td>51.074460</td>\n      <td>16.993327</td>\n      <td>2019-03-27</td>\n      <td>115.856139</td>\n      <td>19.9</td>\n      <td>74.734631</td>\n    </tr>\n    <tr>\n      <th>99991</th>\n      <td>51.161679</td>\n      <td>16.856860</td>\n      <td>2019-12-20</td>\n      <td>7.968240</td>\n      <td>28.1</td>\n      <td>77.955617</td>\n    </tr>\n    <tr>\n      <th>99992</th>\n      <td>51.113933</td>\n      <td>16.924313</td>\n      <td>2019-03-28</td>\n      <td>318.913706</td>\n      <td>10.3</td>\n      <td>107.084519</td>\n    </tr>\n    <tr>\n      <th>99997</th>\n      <td>51.141183</td>\n      <td>17.042097</td>\n      <td>2019-07-12</td>\n      <td>491.084854</td>\n      <td>34.6</td>\n      <td>99.595438</td>\n    </tr>\n    <tr>\n      <th>99998</th>\n      <td>51.124121</td>\n      <td>16.900435</td>\n      <td>2019-01-18</td>\n      <td>9.014678</td>\n      <td>33.5</td>\n      <td>82.258003</td>\n    </tr>\n  </tbody>\n</table>\n<p>60238 rows × 6 columns</p>\n</div>"
     },
     "metadata": {},
     "output_type": "execute_result",
     "execution_count": 48
    }
   ],
   "source": [
    "en_plus = en[en['energy_delta'] > 0]\n",
    "en_plus"
   ],
   "metadata": {
    "collapsed": false,
    "pycharm": {
     "name": "#%%\n",
     "is_executing": false
    }
   }
  },
  {
   "cell_type": "code",
   "execution_count": 49,
   "outputs": [
    {
     "data": {
      "text/plain": "               x          y       date  energy_delta  population    traffic\n4      51.135540  17.133699 2019-05-31   -117.714194        29.6  65.388613\n17     51.153460  16.866554 2019-07-18    -66.352178        28.1  75.341824\n56     51.134316  17.062307 2019-08-22   -156.302849        34.6  86.336342\n68     51.068012  16.976479 2019-02-06    -17.411577        19.9  79.786002\n77     51.116919  16.941706 2019-09-18   -219.577035        33.5  98.562262\n...          ...        ...        ...           ...         ...        ...\n99993  51.068772  17.005919 2019-05-10   -157.587836        19.9  80.900608\n99994  51.113664  17.064101 2019-12-13   -390.254284        34.6  87.238636\n99995  51.160787  16.924699 2019-01-24  -1272.424285        33.5  88.518312\n99996  51.156079  17.129023 2019-03-30  -1119.062505        29.6  71.552822\n99999  51.150519  16.960285 2019-10-15   -531.044435        33.5  99.222730\n\n[39762 rows x 6 columns]",
      "text/html": "<div>\n<style scoped>\n    .dataframe tbody tr th:only-of-type {\n        vertical-align: middle;\n    }\n\n    .dataframe tbody tr th {\n        vertical-align: top;\n    }\n\n    .dataframe thead th {\n        text-align: right;\n    }\n</style>\n<table border=\"1\" class=\"dataframe\">\n  <thead>\n    <tr style=\"text-align: right;\">\n      <th></th>\n      <th>x</th>\n      <th>y</th>\n      <th>date</th>\n      <th>energy_delta</th>\n      <th>population</th>\n      <th>traffic</th>\n    </tr>\n  </thead>\n  <tbody>\n    <tr>\n      <th>4</th>\n      <td>51.135540</td>\n      <td>17.133699</td>\n      <td>2019-05-31</td>\n      <td>-117.714194</td>\n      <td>29.6</td>\n      <td>65.388613</td>\n    </tr>\n    <tr>\n      <th>17</th>\n      <td>51.153460</td>\n      <td>16.866554</td>\n      <td>2019-07-18</td>\n      <td>-66.352178</td>\n      <td>28.1</td>\n      <td>75.341824</td>\n    </tr>\n    <tr>\n      <th>56</th>\n      <td>51.134316</td>\n      <td>17.062307</td>\n      <td>2019-08-22</td>\n      <td>-156.302849</td>\n      <td>34.6</td>\n      <td>86.336342</td>\n    </tr>\n    <tr>\n      <th>68</th>\n      <td>51.068012</td>\n      <td>16.976479</td>\n      <td>2019-02-06</td>\n      <td>-17.411577</td>\n      <td>19.9</td>\n      <td>79.786002</td>\n    </tr>\n    <tr>\n      <th>77</th>\n      <td>51.116919</td>\n      <td>16.941706</td>\n      <td>2019-09-18</td>\n      <td>-219.577035</td>\n      <td>33.5</td>\n      <td>98.562262</td>\n    </tr>\n    <tr>\n      <th>...</th>\n      <td>...</td>\n      <td>...</td>\n      <td>...</td>\n      <td>...</td>\n      <td>...</td>\n      <td>...</td>\n    </tr>\n    <tr>\n      <th>99993</th>\n      <td>51.068772</td>\n      <td>17.005919</td>\n      <td>2019-05-10</td>\n      <td>-157.587836</td>\n      <td>19.9</td>\n      <td>80.900608</td>\n    </tr>\n    <tr>\n      <th>99994</th>\n      <td>51.113664</td>\n      <td>17.064101</td>\n      <td>2019-12-13</td>\n      <td>-390.254284</td>\n      <td>34.6</td>\n      <td>87.238636</td>\n    </tr>\n    <tr>\n      <th>99995</th>\n      <td>51.160787</td>\n      <td>16.924699</td>\n      <td>2019-01-24</td>\n      <td>-1272.424285</td>\n      <td>33.5</td>\n      <td>88.518312</td>\n    </tr>\n    <tr>\n      <th>99996</th>\n      <td>51.156079</td>\n      <td>17.129023</td>\n      <td>2019-03-30</td>\n      <td>-1119.062505</td>\n      <td>29.6</td>\n      <td>71.552822</td>\n    </tr>\n    <tr>\n      <th>99999</th>\n      <td>51.150519</td>\n      <td>16.960285</td>\n      <td>2019-10-15</td>\n      <td>-531.044435</td>\n      <td>33.5</td>\n      <td>99.222730</td>\n    </tr>\n  </tbody>\n</table>\n<p>39762 rows × 6 columns</p>\n</div>"
     },
     "metadata": {},
     "output_type": "execute_result",
     "execution_count": 49
    }
   ],
   "source": [
    "en_minus = en[en['energy_delta'] < 0]\n",
    "en_minus"
   ],
   "metadata": {
    "collapsed": false,
    "pycharm": {
     "name": "#%%\n",
     "is_executing": false
    }
   }
  },
  {
   "cell_type": "code",
   "execution_count": 50,
   "outputs": [
    {
     "name": "stderr",
     "text": [
      "C:\\Users\\najle\\anaconda3\\lib\\site-packages\\ipykernel_launcher.py:1: SettingWithCopyWarning: \n",
      "A value is trying to be set on a copy of a slice from a DataFrame.\n",
      "Try using .loc[row_indexer,col_indexer] = value instead\n",
      "\n",
      "See the caveats in the documentation: https://pandas.pydata.org/pandas-docs/stable/user_guide/indexing.html#returning-a-view-versus-a-copy\n",
      "  \"\"\"Entry point for launching an IPython kernel.\n"
     ],
     "output_type": "stream"
    },
    {
     "data": {
      "text/plain": "               x          y       date  energy_delta  population    traffic\n4      51.135540  17.133699 2019-05-31    117.714194        29.6  65.388613\n17     51.153460  16.866554 2019-07-18     66.352178        28.1  75.341824\n56     51.134316  17.062307 2019-08-22    156.302849        34.6  86.336342\n68     51.068012  16.976479 2019-02-06     17.411577        19.9  79.786002\n77     51.116919  16.941706 2019-09-18    219.577035        33.5  98.562262\n...          ...        ...        ...           ...         ...        ...\n99993  51.068772  17.005919 2019-05-10    157.587836        19.9  80.900608\n99994  51.113664  17.064101 2019-12-13    390.254284        34.6  87.238636\n99995  51.160787  16.924699 2019-01-24   1272.424285        33.5  88.518312\n99996  51.156079  17.129023 2019-03-30   1119.062505        29.6  71.552822\n99999  51.150519  16.960285 2019-10-15    531.044435        33.5  99.222730\n\n[39762 rows x 6 columns]",
      "text/html": "<div>\n<style scoped>\n    .dataframe tbody tr th:only-of-type {\n        vertical-align: middle;\n    }\n\n    .dataframe tbody tr th {\n        vertical-align: top;\n    }\n\n    .dataframe thead th {\n        text-align: right;\n    }\n</style>\n<table border=\"1\" class=\"dataframe\">\n  <thead>\n    <tr style=\"text-align: right;\">\n      <th></th>\n      <th>x</th>\n      <th>y</th>\n      <th>date</th>\n      <th>energy_delta</th>\n      <th>population</th>\n      <th>traffic</th>\n    </tr>\n  </thead>\n  <tbody>\n    <tr>\n      <th>4</th>\n      <td>51.135540</td>\n      <td>17.133699</td>\n      <td>2019-05-31</td>\n      <td>117.714194</td>\n      <td>29.6</td>\n      <td>65.388613</td>\n    </tr>\n    <tr>\n      <th>17</th>\n      <td>51.153460</td>\n      <td>16.866554</td>\n      <td>2019-07-18</td>\n      <td>66.352178</td>\n      <td>28.1</td>\n      <td>75.341824</td>\n    </tr>\n    <tr>\n      <th>56</th>\n      <td>51.134316</td>\n      <td>17.062307</td>\n      <td>2019-08-22</td>\n      <td>156.302849</td>\n      <td>34.6</td>\n      <td>86.336342</td>\n    </tr>\n    <tr>\n      <th>68</th>\n      <td>51.068012</td>\n      <td>16.976479</td>\n      <td>2019-02-06</td>\n      <td>17.411577</td>\n      <td>19.9</td>\n      <td>79.786002</td>\n    </tr>\n    <tr>\n      <th>77</th>\n      <td>51.116919</td>\n      <td>16.941706</td>\n      <td>2019-09-18</td>\n      <td>219.577035</td>\n      <td>33.5</td>\n      <td>98.562262</td>\n    </tr>\n    <tr>\n      <th>...</th>\n      <td>...</td>\n      <td>...</td>\n      <td>...</td>\n      <td>...</td>\n      <td>...</td>\n      <td>...</td>\n    </tr>\n    <tr>\n      <th>99993</th>\n      <td>51.068772</td>\n      <td>17.005919</td>\n      <td>2019-05-10</td>\n      <td>157.587836</td>\n      <td>19.9</td>\n      <td>80.900608</td>\n    </tr>\n    <tr>\n      <th>99994</th>\n      <td>51.113664</td>\n      <td>17.064101</td>\n      <td>2019-12-13</td>\n      <td>390.254284</td>\n      <td>34.6</td>\n      <td>87.238636</td>\n    </tr>\n    <tr>\n      <th>99995</th>\n      <td>51.160787</td>\n      <td>16.924699</td>\n      <td>2019-01-24</td>\n      <td>1272.424285</td>\n      <td>33.5</td>\n      <td>88.518312</td>\n    </tr>\n    <tr>\n      <th>99996</th>\n      <td>51.156079</td>\n      <td>17.129023</td>\n      <td>2019-03-30</td>\n      <td>1119.062505</td>\n      <td>29.6</td>\n      <td>71.552822</td>\n    </tr>\n    <tr>\n      <th>99999</th>\n      <td>51.150519</td>\n      <td>16.960285</td>\n      <td>2019-10-15</td>\n      <td>531.044435</td>\n      <td>33.5</td>\n      <td>99.222730</td>\n    </tr>\n  </tbody>\n</table>\n<p>39762 rows × 6 columns</p>\n</div>"
     },
     "metadata": {},
     "output_type": "execute_result",
     "execution_count": 50
    }
   ],
   "source": [
    "en_minus['energy_delta'] = en_minus.energy_delta.apply(np.abs)\n",
    "en_minus"
   ],
   "metadata": {
    "collapsed": false,
    "pycharm": {
     "name": "#%%\n",
     "is_executing": false
    }
   }
  },
  {
   "cell_type": "code",
   "execution_count": 50,
   "outputs": [],
   "source": [],
   "metadata": {
    "collapsed": false,
    "pycharm": {
     "name": "#%%\n",
     "is_executing": false
    }
   }
  },
  {
   "cell_type": "code",
   "execution_count": 50,
   "outputs": [],
   "source": [],
   "metadata": {
    "collapsed": false,
    "pycharm": {
     "name": "#%%\n",
     "is_executing": false
    }
   }
  },
  {
   "cell_type": "code",
   "execution_count": null,
   "outputs": [],
   "source": [],
   "metadata": {
    "collapsed": false,
    "pycharm": {
     "name": "#%%\n"
    }
   }
  }
 ],
 "metadata": {
  "kernelspec": {
   "name": "pycharm-cea1a07e",
   "language": "python",
   "display_name": "PyCharm (energyheat)"
  },
  "language_info": {
   "codemirror_mode": {
    "name": "ipython",
    "version": 2
   },
   "file_extension": ".py",
   "mimetype": "text/x-python",
   "name": "python",
   "nbconvert_exporter": "python",
   "pygments_lexer": "ipython2",
   "version": "2.7.6"
  },
  "pycharm": {
   "stem_cell": {
    "cell_type": "raw",
    "source": [],
    "metadata": {
     "collapsed": false
    }
   }
  }
 },
 "nbformat": 4,
 "nbformat_minor": 0
}