{
 "cells": [
  {
   "cell_type": "code",
   "execution_count": 2,
   "metadata": {
    "collapsed": true,
    "pycharm": {
     "is_executing": false
    }
   },
   "outputs": [],
   "source": [
    "import pandas as pd"
   ]
  },
  {
   "cell_type": "code",
   "execution_count": 3,
   "outputs": [
    {
     "data": {
      "text/plain": "               x          y       date  energy_delta\n0      51.305575  16.841862 2019-04-18    347.339571\n1      51.045951  16.902048 2019-03-08     72.382511\n2      51.051023  16.885317 2019-08-29    342.302280\n3      51.097895  17.041758 2019-07-06    282.499952\n4      51.190952  17.147227 2019-06-14     30.896870\n...          ...        ...        ...           ...\n99995  51.135289  17.116648 2019-04-03   -213.332272\n99996  51.113012  16.907707 2019-01-15     40.118074\n99997  51.250300  17.224379 2019-10-02    114.895568\n99998  51.220725  16.691751 2019-01-11    614.536269\n99999  51.040705  16.863793 2019-09-10  -1051.857476\n\n[100000 rows x 4 columns]",
      "text/html": "<div>\n<style scoped>\n    .dataframe tbody tr th:only-of-type {\n        vertical-align: middle;\n    }\n\n    .dataframe tbody tr th {\n        vertical-align: top;\n    }\n\n    .dataframe thead th {\n        text-align: right;\n    }\n</style>\n<table border=\"1\" class=\"dataframe\">\n  <thead>\n    <tr style=\"text-align: right;\">\n      <th></th>\n      <th>x</th>\n      <th>y</th>\n      <th>date</th>\n      <th>energy_delta</th>\n    </tr>\n  </thead>\n  <tbody>\n    <tr>\n      <th>0</th>\n      <td>51.305575</td>\n      <td>16.841862</td>\n      <td>2019-04-18</td>\n      <td>347.339571</td>\n    </tr>\n    <tr>\n      <th>1</th>\n      <td>51.045951</td>\n      <td>16.902048</td>\n      <td>2019-03-08</td>\n      <td>72.382511</td>\n    </tr>\n    <tr>\n      <th>2</th>\n      <td>51.051023</td>\n      <td>16.885317</td>\n      <td>2019-08-29</td>\n      <td>342.302280</td>\n    </tr>\n    <tr>\n      <th>3</th>\n      <td>51.097895</td>\n      <td>17.041758</td>\n      <td>2019-07-06</td>\n      <td>282.499952</td>\n    </tr>\n    <tr>\n      <th>4</th>\n      <td>51.190952</td>\n      <td>17.147227</td>\n      <td>2019-06-14</td>\n      <td>30.896870</td>\n    </tr>\n    <tr>\n      <th>...</th>\n      <td>...</td>\n      <td>...</td>\n      <td>...</td>\n      <td>...</td>\n    </tr>\n    <tr>\n      <th>99995</th>\n      <td>51.135289</td>\n      <td>17.116648</td>\n      <td>2019-04-03</td>\n      <td>-213.332272</td>\n    </tr>\n    <tr>\n      <th>99996</th>\n      <td>51.113012</td>\n      <td>16.907707</td>\n      <td>2019-01-15</td>\n      <td>40.118074</td>\n    </tr>\n    <tr>\n      <th>99997</th>\n      <td>51.250300</td>\n      <td>17.224379</td>\n      <td>2019-10-02</td>\n      <td>114.895568</td>\n    </tr>\n    <tr>\n      <th>99998</th>\n      <td>51.220725</td>\n      <td>16.691751</td>\n      <td>2019-01-11</td>\n      <td>614.536269</td>\n    </tr>\n    <tr>\n      <th>99999</th>\n      <td>51.040705</td>\n      <td>16.863793</td>\n      <td>2019-09-10</td>\n      <td>-1051.857476</td>\n    </tr>\n  </tbody>\n</table>\n<p>100000 rows × 4 columns</p>\n</div>"
     },
     "metadata": {},
     "output_type": "execute_result",
     "execution_count": 3
    }
   ],
   "source": [
    "en = pd.read_json('data/energy.json')\n",
    "en"
   ],
   "metadata": {
    "collapsed": false,
    "pycharm": {
     "name": "#%%\n",
     "is_executing": false
    }
   }
  },
  {
   "cell_type": "code",
   "execution_count": 4,
   "outputs": [
    {
     "data": {
      "text/plain": "               x          y\n0      51.305575  16.841862\n1      51.045951  16.902048\n2      51.051023  16.885317\n3      51.097895  17.041758\n4      51.190952  17.147227\n...          ...        ...\n99995  51.135289  17.116648\n99996  51.113012  16.907707\n99997  51.250300  17.224379\n99998  51.220725  16.691751\n99999  51.040705  16.863793\n\n[100000 rows x 2 columns]",
      "text/html": "<div>\n<style scoped>\n    .dataframe tbody tr th:only-of-type {\n        vertical-align: middle;\n    }\n\n    .dataframe tbody tr th {\n        vertical-align: top;\n    }\n\n    .dataframe thead th {\n        text-align: right;\n    }\n</style>\n<table border=\"1\" class=\"dataframe\">\n  <thead>\n    <tr style=\"text-align: right;\">\n      <th></th>\n      <th>x</th>\n      <th>y</th>\n    </tr>\n  </thead>\n  <tbody>\n    <tr>\n      <th>0</th>\n      <td>51.305575</td>\n      <td>16.841862</td>\n    </tr>\n    <tr>\n      <th>1</th>\n      <td>51.045951</td>\n      <td>16.902048</td>\n    </tr>\n    <tr>\n      <th>2</th>\n      <td>51.051023</td>\n      <td>16.885317</td>\n    </tr>\n    <tr>\n      <th>3</th>\n      <td>51.097895</td>\n      <td>17.041758</td>\n    </tr>\n    <tr>\n      <th>4</th>\n      <td>51.190952</td>\n      <td>17.147227</td>\n    </tr>\n    <tr>\n      <th>...</th>\n      <td>...</td>\n      <td>...</td>\n    </tr>\n    <tr>\n      <th>99995</th>\n      <td>51.135289</td>\n      <td>17.116648</td>\n    </tr>\n    <tr>\n      <th>99996</th>\n      <td>51.113012</td>\n      <td>16.907707</td>\n    </tr>\n    <tr>\n      <th>99997</th>\n      <td>51.250300</td>\n      <td>17.224379</td>\n    </tr>\n    <tr>\n      <th>99998</th>\n      <td>51.220725</td>\n      <td>16.691751</td>\n    </tr>\n    <tr>\n      <th>99999</th>\n      <td>51.040705</td>\n      <td>16.863793</td>\n    </tr>\n  </tbody>\n</table>\n<p>100000 rows × 2 columns</p>\n</div>"
     },
     "metadata": {},
     "output_type": "execute_result",
     "execution_count": 4
    }
   ],
   "source": [
    "# locations = en[['x', 'y']] \n",
    "# locations\n",
    "\n",
    "# weights = en['energy_delta']\n",
    "# weights\n",
    "\n",
    "# "
   ],
   "metadata": {
    "collapsed": false,
    "pycharm": {
     "name": "#%%\n",
     "is_executing": false
    }
   }
  },
  {
   "cell_type": "code",
   "execution_count": 7,
   "outputs": [
    {
     "data": {
      "text/plain": "               y          y  energy_delta\n0      16.841862  16.841862    347.339571\n1      16.902048  16.902048     72.382511\n2      16.885317  16.885317    342.302280\n3      17.041758  17.041758    282.499952\n4      17.147227  17.147227     30.896870\n...          ...        ...           ...\n99995  17.116648  17.116648   -213.332272\n99996  16.907707  16.907707     40.118074\n99997  17.224379  17.224379    114.895568\n99998  16.691751  16.691751    614.536269\n99999  16.863793  16.863793  -1051.857476\n\n[100000 rows x 3 columns]",
      "text/html": "<div>\n<style scoped>\n    .dataframe tbody tr th:only-of-type {\n        vertical-align: middle;\n    }\n\n    .dataframe tbody tr th {\n        vertical-align: top;\n    }\n\n    .dataframe thead th {\n        text-align: right;\n    }\n</style>\n<table border=\"1\" class=\"dataframe\">\n  <thead>\n    <tr style=\"text-align: right;\">\n      <th></th>\n      <th>y</th>\n      <th>y</th>\n      <th>energy_delta</th>\n    </tr>\n  </thead>\n  <tbody>\n    <tr>\n      <th>0</th>\n      <td>16.841862</td>\n      <td>16.841862</td>\n      <td>347.339571</td>\n    </tr>\n    <tr>\n      <th>1</th>\n      <td>16.902048</td>\n      <td>16.902048</td>\n      <td>72.382511</td>\n    </tr>\n    <tr>\n      <th>2</th>\n      <td>16.885317</td>\n      <td>16.885317</td>\n      <td>342.302280</td>\n    </tr>\n    <tr>\n      <th>3</th>\n      <td>17.041758</td>\n      <td>17.041758</td>\n      <td>282.499952</td>\n    </tr>\n    <tr>\n      <th>4</th>\n      <td>17.147227</td>\n      <td>17.147227</td>\n      <td>30.896870</td>\n    </tr>\n    <tr>\n      <th>...</th>\n      <td>...</td>\n      <td>...</td>\n      <td>...</td>\n    </tr>\n    <tr>\n      <th>99995</th>\n      <td>17.116648</td>\n      <td>17.116648</td>\n      <td>-213.332272</td>\n    </tr>\n    <tr>\n      <th>99996</th>\n      <td>16.907707</td>\n      <td>16.907707</td>\n      <td>40.118074</td>\n    </tr>\n    <tr>\n      <th>99997</th>\n      <td>17.224379</td>\n      <td>17.224379</td>\n      <td>114.895568</td>\n    </tr>\n    <tr>\n      <th>99998</th>\n      <td>16.691751</td>\n      <td>16.691751</td>\n      <td>614.536269</td>\n    </tr>\n    <tr>\n      <th>99999</th>\n      <td>16.863793</td>\n      <td>16.863793</td>\n      <td>-1051.857476</td>\n    </tr>\n  </tbody>\n</table>\n<p>100000 rows × 3 columns</p>\n</div>"
     },
     "metadata": {},
     "output_type": "execute_result",
     "execution_count": 7
    }
   ],
   "source": [
    "locations = en[['y', 'y', 'energy_delta']]\n",
    "locations"
   ],
   "metadata": {
    "collapsed": false,
    "pycharm": {
     "name": "#%%\n",
     "is_executing": false
    }
   }
  },
  {
   "cell_type": "code",
   "execution_count": 9,
   "outputs": [
    {
     "data": {
      "text/plain": "array([[   16.84186214,    16.84186214,   347.3395709 ],\n       [   16.9020484 ,    16.9020484 ,    72.3825107 ],\n       [   16.88531706,    16.88531706,   342.30228002],\n       ...,\n       [   17.22437878,    17.22437878,   114.8955681 ],\n       [   16.69175136,    16.69175136,   614.53626887],\n       [   16.86379331,    16.86379331, -1051.85747606]])"
     },
     "metadata": {},
     "output_type": "execute_result",
     "execution_count": 9
    }
   ],
   "source": [
    "locations.to_numpy()\n"
   ],
   "metadata": {
    "collapsed": false,
    "pycharm": {
     "name": "#%%\n",
     "is_executing": false
    }
   }
  },
  {
   "cell_type": "code",
   "execution_count": null,
   "outputs": [],
   "source": [],
   "metadata": {
    "collapsed": false,
    "pycharm": {
     "name": "#%%\n"
    }
   }
  }
 ],
 "metadata": {
  "kernelspec": {
   "name": "pycharm-cea1a07e",
   "language": "python",
   "display_name": "PyCharm (energyheat)"
  },
  "language_info": {
   "codemirror_mode": {
    "name": "ipython",
    "version": 2
   },
   "file_extension": ".py",
   "mimetype": "text/x-python",
   "name": "python",
   "nbconvert_exporter": "python",
   "pygments_lexer": "ipython2",
   "version": "2.7.6"
  },
  "pycharm": {
   "stem_cell": {
    "cell_type": "raw",
    "source": [],
    "metadata": {
     "collapsed": false
    }
   }
  }
 },
 "nbformat": 4,
 "nbformat_minor": 0
}