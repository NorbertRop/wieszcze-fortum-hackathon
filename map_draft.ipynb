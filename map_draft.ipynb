{
 "cells": [
  {
   "cell_type": "code",
   "execution_count": 234,
   "metadata": {
    "collapsed": true,
    "pycharm": {
     "is_executing": false
    }
   },
   "outputs": [],
   "source": [
    "\n",
    "import folium\n",
    "from folium import plugins\n",
    "import pandas as pd\n",
    "import numpy as np\n",
    "from tqdm import tqdm\n"
   ]
  },
  {
   "cell_type": "code",
   "execution_count": 235,
   "outputs": [],
   "source": [
    "# m = folium.Map(location=[52.215933,19.134422], zoom_start=6)\n",
    "m = folium.Map(location=[51.1113305,17.041928], zoom_start=14)\n",
    "# ic_nodes_coord = pd.read_csv('ic_coord.nodes')\n",
    "# \n",
    "# def removeAccents(text): # encoding works in html, but not in Jupyter view\n",
    "#     polishChars = 'ąćęłńóśżźĄĆĘŁŃÓŚŻŹ'\n",
    "#     replace     = 'acelnoszzACELNOSZZ'\n",
    "#     translator=str.maketrans(polishChars, replace)\n",
    "#     return text.translate(translator)\n",
    "# "
   ],
   "metadata": {
    "collapsed": false,
    "pycharm": {
     "name": "#%%\n",
     "is_executing": false
    }
   }
  },
  {
   "cell_type": "code",
   "execution_count": 236,
   "outputs": [
    {
     "data": {
      "text/plain": "              x          y  energy_delta  population     traffic\n0     51.254420  17.198291    677.555455        10.3  103.529879\n1     51.046788  16.985132    407.405404        19.9   75.893818\n2     51.054762  16.986780    323.304877        19.9   58.722987\n3     51.119808  17.047497    951.273333        34.6   95.318814\n4     51.119674  16.869864   1187.938434        28.1   69.992959\n...         ...        ...           ...         ...         ...\n9995  51.074097  16.982061   1560.015933        19.9   99.936578\n9996  51.121481  16.960053    347.084257        33.5   93.217743\n9997  51.103874  17.059278   -629.539217        34.6  101.018958\n9998  51.168261  16.969580    -33.427517        33.5   75.408896\n9999  51.145451  16.854952   -712.894731        28.1   72.302852\n\n[10000 rows x 5 columns]",
      "text/html": "<div>\n<style scoped>\n    .dataframe tbody tr th:only-of-type {\n        vertical-align: middle;\n    }\n\n    .dataframe tbody tr th {\n        vertical-align: top;\n    }\n\n    .dataframe thead th {\n        text-align: right;\n    }\n</style>\n<table border=\"1\" class=\"dataframe\">\n  <thead>\n    <tr style=\"text-align: right;\">\n      <th></th>\n      <th>x</th>\n      <th>y</th>\n      <th>energy_delta</th>\n      <th>population</th>\n      <th>traffic</th>\n    </tr>\n  </thead>\n  <tbody>\n    <tr>\n      <th>0</th>\n      <td>51.254420</td>\n      <td>17.198291</td>\n      <td>677.555455</td>\n      <td>10.3</td>\n      <td>103.529879</td>\n    </tr>\n    <tr>\n      <th>1</th>\n      <td>51.046788</td>\n      <td>16.985132</td>\n      <td>407.405404</td>\n      <td>19.9</td>\n      <td>75.893818</td>\n    </tr>\n    <tr>\n      <th>2</th>\n      <td>51.054762</td>\n      <td>16.986780</td>\n      <td>323.304877</td>\n      <td>19.9</td>\n      <td>58.722987</td>\n    </tr>\n    <tr>\n      <th>3</th>\n      <td>51.119808</td>\n      <td>17.047497</td>\n      <td>951.273333</td>\n      <td>34.6</td>\n      <td>95.318814</td>\n    </tr>\n    <tr>\n      <th>4</th>\n      <td>51.119674</td>\n      <td>16.869864</td>\n      <td>1187.938434</td>\n      <td>28.1</td>\n      <td>69.992959</td>\n    </tr>\n    <tr>\n      <th>...</th>\n      <td>...</td>\n      <td>...</td>\n      <td>...</td>\n      <td>...</td>\n      <td>...</td>\n    </tr>\n    <tr>\n      <th>9995</th>\n      <td>51.074097</td>\n      <td>16.982061</td>\n      <td>1560.015933</td>\n      <td>19.9</td>\n      <td>99.936578</td>\n    </tr>\n    <tr>\n      <th>9996</th>\n      <td>51.121481</td>\n      <td>16.960053</td>\n      <td>347.084257</td>\n      <td>33.5</td>\n      <td>93.217743</td>\n    </tr>\n    <tr>\n      <th>9997</th>\n      <td>51.103874</td>\n      <td>17.059278</td>\n      <td>-629.539217</td>\n      <td>34.6</td>\n      <td>101.018958</td>\n    </tr>\n    <tr>\n      <th>9998</th>\n      <td>51.168261</td>\n      <td>16.969580</td>\n      <td>-33.427517</td>\n      <td>33.5</td>\n      <td>75.408896</td>\n    </tr>\n    <tr>\n      <th>9999</th>\n      <td>51.145451</td>\n      <td>16.854952</td>\n      <td>-712.894731</td>\n      <td>28.1</td>\n      <td>72.302852</td>\n    </tr>\n  </tbody>\n</table>\n<p>10000 rows × 5 columns</p>\n</div>"
     },
     "metadata": {},
     "output_type": "execute_result",
     "execution_count": 236
    }
   ],
   "source": [
    "en = pd.read_json('data/data_without_date.json').head(10000)\n",
    "en"
   ],
   "metadata": {
    "collapsed": false,
    "pycharm": {
     "name": "#%%\n",
     "is_executing": false
    }
   }
  },
  {
   "cell_type": "code",
   "execution_count": 237,
   "outputs": [],
   "source": [
    "# locations = en[['x', 'y', 'energy_delta']].to_numpy()\n",
    "# m.add_children(plugins.HeatMap(locations, radius=20, blur=40))\n",
    "# 0"
   ],
   "metadata": {
    "collapsed": false,
    "pycharm": {
     "name": "#%%\n",
     "is_executing": false
    }
   }
  },
  {
   "cell_type": "code",
   "execution_count": 238,
   "outputs": [],
   "source": [
    "gradient_default =  {0.4: 'blue', 0.65: 'lime', 1: 'red'}\n",
    "radius = 20\n",
    "blur = 40\n",
    "\n"
   ],
   "metadata": {
    "collapsed": false,
    "pycharm": {
     "name": "#%%\n",
     "is_executing": false
    }
   }
  },
  {
   "cell_type": "code",
   "execution_count": 239,
   "outputs": [
    {
     "name": "stdout",
     "text": [
      "[[ 51.1198186   17.10876358 437.71700336]\n",
      " [ 51.15971542  17.08816986 894.37244361]\n",
      " [ 51.13664541  17.06329523 286.57803073]\n",
      " ...\n",
      " [ 51.10387433  17.05927775 629.53921708]\n",
      " [ 51.16826059  16.96958026  33.42751726]\n",
      " [ 51.14545093  16.85495161 712.894731  ]]\n"
     ],
     "output_type": "stream"
    },
    {
     "name": "stderr",
     "text": [
      "C:\\Users\\najle\\anaconda3\\lib\\site-packages\\ipykernel_launcher.py:8: FutureWarning: Method `add_children` is deprecated. Please use `add_child` instead.\n",
      "  \n",
      "C:\\Users\\najle\\anaconda3\\lib\\site-packages\\ipykernel_launcher.py:14: FutureWarning: Method `add_children` is deprecated. Please use `add_child` instead.\n",
      "  \n"
     ],
     "output_type": "stream"
    },
    {
     "data": {
      "text/plain": "0"
     },
     "metadata": {},
     "output_type": "execute_result",
     "execution_count": 239
    }
   ],
   "source": [
    "en_minus = en[en['energy_delta'] < 0][['x', 'y', 'energy_delta']]\n",
    "en_minus['energy_delta'] = en_minus.energy_delta.apply(np.abs)\n",
    "\n",
    "locations_minus = en_minus.to_numpy()\n",
    "print(locations_minus)\n",
    "# gradient_minus =  {0.4: 'lightblue', 0.65: 'blue', 1: 'darkblue'}\n",
    "gradient_minus =  {0.4: 'yellow', 0.65: 'orange', 1: 'red'}\n",
    "m.add_children(plugins.HeatMap(locations_minus, name='excess energy', radius=radius, blur=blur, gradient=gradient_minus))\n",
    "# plugins.HeatMap(locations_minus, radius=radius, blur=blur, gradient=gradient_minus).add_to(m)\n",
    "\n",
    "locations_plus = en[en['energy_delta'] > 0][['x', 'y', 'energy_delta']].to_numpy()\n",
    "gradient_plus = {0.4: 'lightblue', 0.65: 'blue', 1: 'darkblue'}\n",
    "# gradient_plus =  {0.4: 'yellow', 0.65: 'orange', 1: 'red'}\n",
    "m.add_children(plugins.HeatMap(locations_plus, name='energy consumption', radius=radius, blur=blur, gradient=gradient_plus))\n",
    "# plugins.HeatMap(locations_plus, radius=radius, blur=blur, gradient=gradient_plus).add_to(m)\n",
    "\n",
    "0"
   ],
   "metadata": {
    "collapsed": false,
    "pycharm": {
     "name": "#%%\n",
     "is_executing": false
    }
   }
  },
  {
   "cell_type": "code",
   "execution_count": 240,
   "outputs": [
    {
     "name": "stdout",
     "text": [
      "done :D\n"
     ],
     "output_type": "stream"
    }
   ],
   "source": [
    "folium.LayerControl().add_to(m)\n",
    "m.save('map_test.html')\n",
    "print('done :D')\n",
    "# m\n"
   ],
   "metadata": {
    "collapsed": false,
    "pycharm": {
     "name": "#%%\n",
     "is_executing": false
    }
   }
  },
  {
   "cell_type": "code",
   "execution_count": 241,
   "outputs": [
    {
     "data": {
      "text/plain": "array([[  51.25441969,   17.19829055,  677.55545476],\n       [  51.04678837,   16.98513193,  407.40540356],\n       [  51.05476208,   16.98678011,  323.30487713],\n       ...,\n       [  51.1564233 ,   16.82386581,  203.88352584],\n       [  51.07409732,   16.98206081, 1560.01593259],\n       [  51.12148115,   16.96005323,  347.08425746]])"
     },
     "metadata": {},
     "output_type": "execute_result",
     "execution_count": 241
    }
   ],
   "source": [
    "locations_plus\n"
   ],
   "metadata": {
    "collapsed": false,
    "pycharm": {
     "name": "#%%\n",
     "is_executing": false
    }
   }
  },
  {
   "cell_type": "code",
   "execution_count": 242,
   "outputs": [
    {
     "data": {
      "text/plain": "array([[ 51.1198186 ,  17.10876358, 437.71700336],\n       [ 51.15971542,  17.08816986, 894.37244361],\n       [ 51.13664541,  17.06329523, 286.57803073],\n       ...,\n       [ 51.10387433,  17.05927775, 629.53921708],\n       [ 51.16826059,  16.96958026,  33.42751726],\n       [ 51.14545093,  16.85495161, 712.894731  ]])"
     },
     "metadata": {},
     "output_type": "execute_result",
     "execution_count": 242
    }
   ],
   "source": [
    "locations_minus\n"
   ],
   "metadata": {
    "collapsed": false,
    "pycharm": {
     "name": "#%%\n",
     "is_executing": false
    }
   }
  },
  {
   "cell_type": "code",
   "execution_count": 242,
   "outputs": [],
   "source": [
    "\n"
   ],
   "metadata": {
    "collapsed": false,
    "pycharm": {
     "name": "#%%\n",
     "is_executing": false
    }
   }
  },
  {
   "cell_type": "code",
   "execution_count": 242,
   "outputs": [],
   "source": [
    "\n"
   ],
   "metadata": {
    "collapsed": false,
    "pycharm": {
     "name": "#%%\n",
     "is_executing": false
    }
   }
  },
  {
   "cell_type": "code",
   "execution_count": 242,
   "outputs": [],
   "source": [
    "\n"
   ],
   "metadata": {
    "collapsed": false,
    "pycharm": {
     "name": "#%%\n",
     "is_executing": false
    }
   }
  },
  {
   "cell_type": "code",
   "execution_count": null,
   "outputs": [],
   "source": [
    "\n"
   ],
   "metadata": {
    "collapsed": false,
    "pycharm": {
     "name": "#%%\n"
    }
   }
  },
  {
   "cell_type": "code",
   "execution_count": null,
   "outputs": [],
   "source": [
    "\n"
   ],
   "metadata": {
    "collapsed": false,
    "pycharm": {
     "name": "#%%\n"
    }
   }
  }
 ],
 "metadata": {
  "kernelspec": {
   "name": "pycharm-cea1a07e",
   "language": "python",
   "display_name": "PyCharm (energyheat)"
  },
  "language_info": {
   "codemirror_mode": {
    "name": "ipython",
    "version": 2
   },
   "file_extension": ".py",
   "mimetype": "text/x-python",
   "name": "python",
   "nbconvert_exporter": "python",
   "pygments_lexer": "ipython2",
   "version": "2.7.6"
  },
  "pycharm": {
   "stem_cell": {
    "cell_type": "raw",
    "source": [],
    "metadata": {
     "collapsed": false
    }
   }
  }
 },
 "nbformat": 4,
 "nbformat_minor": 0
}